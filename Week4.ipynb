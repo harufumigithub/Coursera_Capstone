{
    "cells": [
        {
            "metadata": {
                "button": false,
                "new_sheet": false,
                "run_control": {
                    "read_only": false
                }
            },
            "cell_type": "markdown",
            "source": "## Introduction: Rental Housing in San Francisco\n\n<div class=\"alert alert-block alert-info\" style=\"margin-top: 20px\">\n    \n1. [Problem and Discussion](#0)<br>\n2. [Description of Data and How it will be Used](#1)<br>\n</div>\n<hr>"
        },
        {
            "metadata": {},
            "cell_type": "markdown",
            "source": "### 1. Problem and Discussion<a id=\"0\"></a>\n\nOften relocation is a time consuming process. Finding affordable housing with safe neighborhoods and prefered venues is a big challenge.  Data science can save time for finding and meeting such criteria by providing interactive visual tools through Jupyter notebook.  A Goal of this project is to provide such a sample in San Francisco utilizing  **Folium** library to make visual segmentation and clustering data in a map.  This notebook allows users to tweek few parameters and shows crime rate in neighborhoods, rental price ranges and venues on interactive maps.<br><br>\nThis project can help rentees considering moving to San Francisco or renters deciding reasonable rents since interactive visual aids can quickly allow users to see intuitive and interactive visual infromation. The use of FourSquare data and mapping techniques combined with data analysis will help providing clustered venues along with rents and crime rate in a single map. Lastly, this project is a good practical case toward the development of Data Science skills.<br>"
        },
        {
            "metadata": {},
            "cell_type": "markdown",
            "source": "### 2. Dicription of Data and How it will be Used<a id=\"1\"></a>\n<br>\n\nIn this jupyter notebook, main focal area is set to San Francisco.  This notebook will use geojson data from DataSF (https://data.sfgov.org/api/geospatial/pty2-tcw4?method=export&format=GeoJSON) for geographical information and police department incident report from DataSF (https://data.sfgov.org/api/views/wg3w-h783/rows.csv?accessType=DOWNLOAD) for crime statistics and finally use python-craigslist to retrieve set of most recent posts on interactive map.  The raw data from craigslist is programatically scraped.  The data will generate statistics and interactive visual aids for users.<br><br>\nUse Foursquare and geopy data to map top 10 venues for all San Francisco neighborhoods and clustered in groups ( as per Course LAB). Use foursquare and geopy data to map the location of available rental housings and crime rates, separately and on top of the above clustered map in order to identify the venues.  The markers of rental housing display the rents and URL to the posts in the popups. Alternatively Boxplot and Choropleth Maps shows rents statistics and average rents respectively to give a general price trend in the neighborhoods. "
        },
        {
            "metadata": {
                "scrolled": true
            },
            "cell_type": "code",
            "source": "!pip install wget ",
            "execution_count": 1,
            "outputs": [
                {
                    "output_type": "stream",
                    "text": "Collecting wget\n  Downloading https://files.pythonhosted.org/packages/47/6a/62e288da7bcda82b935ff0c6cfe542970f04e29c756b0e147251b2fb251f/wget-3.2.zip\nBuilding wheels for collected packages: wget\n  Building wheel for wget (setup.py) ... \u001b[?25ldone\n\u001b[?25h  Stored in directory: /home/dsxuser/.cache/pip/wheels/40/15/30/7d8f7cea2902b4db79e3fea550d7d7b85ecb27ef992b618f3f\nSuccessfully built wget\nInstalling collected packages: wget\nSuccessfully installed wget-3.2\n",
                    "name": "stdout"
                }
            ]
        },
        {
            "metadata": {},
            "cell_type": "code",
            "source": "!wget -q -O 'SF Find Neighborhoods.geojson' https://data.sfgov.org/api/geospatial/pty2-tcw4?method=export&format=GeoJSON\n!wget -q -O 'Police_Department_Incident_Reports__2018_to_Present.csv' https://data.sfgov.org/api/views/wg3w-h783/rows.csv?accessType=DOWNLOAD    ",
            "execution_count": 5,
            "outputs": [
                {
                    "output_type": "error",
                    "ename": "NameError",
                    "evalue": "name 'pd' is not defined",
                    "traceback": [
                        "\u001b[0;31m---------------------------------------------------------------------------\u001b[0m",
                        "\u001b[0;31mNameError\u001b[0m                                 Traceback (most recent call last)",
                        "\u001b[0;32m<ipython-input-5-38df7675bdc9>\u001b[0m in \u001b[0;36m<module>\u001b[0;34m\u001b[0m\n\u001b[1;32m      1\u001b[0m \u001b[0mget_ipython\u001b[0m\u001b[0;34m(\u001b[0m\u001b[0;34m)\u001b[0m\u001b[0;34m.\u001b[0m\u001b[0msystem\u001b[0m\u001b[0;34m(\u001b[0m\u001b[0;34m\"wget -q -O 'SF Find Neighborhoods.geojson' https://data.sfgov.org/api/geospatial/pty2-tcw4?method=export&format=GeoJSON\"\u001b[0m\u001b[0;34m)\u001b[0m\u001b[0;34m\u001b[0m\u001b[0;34m\u001b[0m\u001b[0m\n\u001b[1;32m      2\u001b[0m \u001b[0mget_ipython\u001b[0m\u001b[0;34m(\u001b[0m\u001b[0;34m)\u001b[0m\u001b[0;34m.\u001b[0m\u001b[0msystem\u001b[0m\u001b[0;34m(\u001b[0m\u001b[0;34m\"wget -q -O 'Police_Department_Incident_Reports__2018_to_Present.csv' https://data.sfgov.org/api/views/wg3w-h783/rows.csv?accessType=DOWNLOAD\"\u001b[0m\u001b[0;34m)\u001b[0m\u001b[0;34m\u001b[0m\u001b[0;34m\u001b[0m\u001b[0m\n\u001b[0;32m----> 3\u001b[0;31m \u001b[0mdf_incidents\u001b[0m \u001b[0;34m=\u001b[0m \u001b[0mpd\u001b[0m\u001b[0;34m.\u001b[0m\u001b[0mread_csv\u001b[0m\u001b[0;34m(\u001b[0m\u001b[0;34m'Police_Department_Incident_Reports__2018_to_Present.csv'\u001b[0m\u001b[0;34m)\u001b[0m\u001b[0;34m\u001b[0m\u001b[0;34m\u001b[0m\u001b[0m\n\u001b[0m\u001b[1;32m      4\u001b[0m \u001b[0mprint\u001b[0m\u001b[0;34m(\u001b[0m\u001b[0;34m'Dataset downloaded and read into a pandas dataframe!'\u001b[0m\u001b[0;34m)\u001b[0m\u001b[0;34m\u001b[0m\u001b[0;34m\u001b[0m\u001b[0m\n\u001b[1;32m      5\u001b[0m \u001b[0mdf_incidents\u001b[0m\u001b[0;34m.\u001b[0m\u001b[0mhead\u001b[0m\u001b[0;34m(\u001b[0m\u001b[0;34m)\u001b[0m\u001b[0;34m\u001b[0m\u001b[0;34m\u001b[0m\u001b[0m\n",
                        "\u001b[0;31mNameError\u001b[0m: name 'pd' is not defined"
                    ]
                }
            ]
        },
        {
            "metadata": {},
            "cell_type": "code",
            "source": "import numpy as np # library to handle data in a vectorized manner\nimport pandas as pd # library for data analsysis\npd.set_option('display.max_columns', None)\npd.set_option('display.max_rows', None)\ndf_incidents = pd.read_csv('Police_Department_Incident_Reports__2018_to_Present.csv')\nprint('Dataset downloaded and read into a pandas dataframe!')\ndf_incidents.head()",
            "execution_count": 6,
            "outputs": [
                {
                    "output_type": "stream",
                    "text": "Dataset downloaded and read into a pandas dataframe!\n",
                    "name": "stdout"
                },
                {
                    "output_type": "execute_result",
                    "execution_count": 6,
                    "data": {
                        "text/plain": "        Incident Datetime Incident Date Incident Time  Incident Year  \\\n0  2020/02/03 02:45:00 PM    2020/02/03         14:45           2020   \n1  2020/02/03 03:45:00 AM    2020/02/03         03:45           2020   \n2  2020/02/03 10:00:00 AM    2020/02/03         10:00           2020   \n3  2020/01/19 05:12:00 PM    2020/01/19         17:12           2020   \n4  2020/01/05 12:00:00 AM    2020/01/05         00:00           2020   \n\n  Incident Day of Week         Report Datetime       Row ID  Incident ID  \\\n0               Monday  2020/02/03 05:50:00 PM  89881675000       898816   \n1               Monday  2020/02/03 03:45:00 AM  89860711012       898607   \n2               Monday  2020/02/03 10:06:00 AM  89867264015       898672   \n3               Sunday  2020/02/01 01:01:00 PM  89863571000       898635   \n4               Sunday  2020/02/03 04:09:00 PM  89877368020       898773   \n\n   Incident Number   CAD Number Report Type Code Report Type Description  \\\n0        200085557  200342870.0               II                 Initial   \n1        200083749  200340316.0               II                 Initial   \n2        200084060  200340808.0               II                 Initial   \n3        206024187          NaN               II        Coplogic Initial   \n4        200085193  200342341.0               II                 Initial   \n\n  Filed Online  Incident Code            Incident Category  \\\n0          NaN          75000               Missing Person   \n1          NaN          11012              Stolen Property   \n2          NaN          64015                 Non-Criminal   \n3         True          71000                Lost Property   \n4          NaN          68020  Miscellaneous Investigation   \n\n          Incident Subcategory  \\\n0               Missing Person   \n1              Stolen Property   \n2                        Other   \n3                Lost Property   \n4  Miscellaneous Investigation   \n\n                                Incident Description            Resolution  \\\n0                                       Found Person        Open or Active   \n1  Stolen Property, Possession with Knowledge, Re...  Cite or Arrest Adult   \n2                 Aided Case, Injured or Sick Person        Open or Active   \n3                                      Lost Property        Open or Active   \n4                        Miscellaneous Investigation        Open or Active   \n\n              Intersection         CNN Police District  \\\n0    20TH AVE \\ WINSTON DR  33719000.0         Taraval   \n1    24TH ST \\ SHOTWELL ST  24064000.0         Mission   \n2    MARKET ST \\ POWELL ST  34016000.0      Tenderloin   \n3                      NaN         NaN         Taraval   \n4  PINE ST \\ DIVISADERO ST  26643000.0        Richmond   \n\n            Analysis Neighborhood  Supervisor District   Latitude   Longitude  \\\n0                       Lakeshore                  7.0  37.726950 -122.476039   \n1                         Mission                  9.0  37.752440 -122.415172   \n2  Financial District/South Beach                  3.0  37.784560 -122.407337   \n3                             NaN                  NaN        NaN         NaN   \n4                 Pacific Heights                  2.0  37.787112 -122.440250   \n\n                                            point  SF Find Neighborhoods  \\\n0   POINT (-122.47603947349434 37.72694991292525)                   41.0   \n1  POINT (-122.41517229045435 37.752439644389675)                   53.0   \n2  POINT (-122.40733704162238 37.784560141211806)                   19.0   \n3                                             NaN                    NaN   \n4   POINT (-122.44024995765258 37.78711245591735)                  103.0   \n\n   Current Police Districts  Current Supervisor Districts  \\\n0                      10.0                           8.0   \n1                       3.0                           2.0   \n2                       5.0                           3.0   \n3                       NaN                           NaN   \n4                       4.0                           6.0   \n\n   Analysis Neighborhoods  HSOC Zones as of 2018-06-05  OWED Public Spaces  \\\n0                    16.0                          NaN                 NaN   \n1                    20.0                          3.0                 NaN   \n2                     8.0                          NaN                35.0   \n3                     NaN                          NaN                 NaN   \n4                    30.0                          NaN                 NaN   \n\n   Central Market/Tenderloin Boundary Polygon - Updated  \\\n0                                                NaN      \n1                                                NaN      \n2                                                NaN      \n3                                                NaN      \n4                                                NaN      \n\n   Parks Alliance CPSI (27+TL sites)  ESNCAG - Boundary File  \\\n0                                NaN                     NaN   \n1                                NaN                     NaN   \n2                                NaN                     NaN   \n3                                NaN                     NaN   \n4                                NaN                     NaN   \n\n   Areas of Vulnerability, 2016  \n0                           2.0  \n1                           2.0  \n2                           2.0  \n3                           NaN  \n4                           1.0  ",
                        "text/html": "<div>\n<style scoped>\n    .dataframe tbody tr th:only-of-type {\n        vertical-align: middle;\n    }\n\n    .dataframe tbody tr th {\n        vertical-align: top;\n    }\n\n    .dataframe thead th {\n        text-align: right;\n    }\n</style>\n<table border=\"1\" class=\"dataframe\">\n  <thead>\n    <tr style=\"text-align: right;\">\n      <th></th>\n      <th>Incident Datetime</th>\n      <th>Incident Date</th>\n      <th>Incident Time</th>\n      <th>Incident Year</th>\n      <th>Incident Day of Week</th>\n      <th>Report Datetime</th>\n      <th>Row ID</th>\n      <th>Incident ID</th>\n      <th>Incident Number</th>\n      <th>CAD Number</th>\n      <th>Report Type Code</th>\n      <th>Report Type Description</th>\n      <th>Filed Online</th>\n      <th>Incident Code</th>\n      <th>Incident Category</th>\n      <th>Incident Subcategory</th>\n      <th>Incident Description</th>\n      <th>Resolution</th>\n      <th>Intersection</th>\n      <th>CNN</th>\n      <th>Police District</th>\n      <th>Analysis Neighborhood</th>\n      <th>Supervisor District</th>\n      <th>Latitude</th>\n      <th>Longitude</th>\n      <th>point</th>\n      <th>SF Find Neighborhoods</th>\n      <th>Current Police Districts</th>\n      <th>Current Supervisor Districts</th>\n      <th>Analysis Neighborhoods</th>\n      <th>HSOC Zones as of 2018-06-05</th>\n      <th>OWED Public Spaces</th>\n      <th>Central Market/Tenderloin Boundary Polygon - Updated</th>\n      <th>Parks Alliance CPSI (27+TL sites)</th>\n      <th>ESNCAG - Boundary File</th>\n      <th>Areas of Vulnerability, 2016</th>\n    </tr>\n  </thead>\n  <tbody>\n    <tr>\n      <th>0</th>\n      <td>2020/02/03 02:45:00 PM</td>\n      <td>2020/02/03</td>\n      <td>14:45</td>\n      <td>2020</td>\n      <td>Monday</td>\n      <td>2020/02/03 05:50:00 PM</td>\n      <td>89881675000</td>\n      <td>898816</td>\n      <td>200085557</td>\n      <td>200342870.0</td>\n      <td>II</td>\n      <td>Initial</td>\n      <td>NaN</td>\n      <td>75000</td>\n      <td>Missing Person</td>\n      <td>Missing Person</td>\n      <td>Found Person</td>\n      <td>Open or Active</td>\n      <td>20TH AVE \\ WINSTON DR</td>\n      <td>33719000.0</td>\n      <td>Taraval</td>\n      <td>Lakeshore</td>\n      <td>7.0</td>\n      <td>37.726950</td>\n      <td>-122.476039</td>\n      <td>POINT (-122.47603947349434 37.72694991292525)</td>\n      <td>41.0</td>\n      <td>10.0</td>\n      <td>8.0</td>\n      <td>16.0</td>\n      <td>NaN</td>\n      <td>NaN</td>\n      <td>NaN</td>\n      <td>NaN</td>\n      <td>NaN</td>\n      <td>2.0</td>\n    </tr>\n    <tr>\n      <th>1</th>\n      <td>2020/02/03 03:45:00 AM</td>\n      <td>2020/02/03</td>\n      <td>03:45</td>\n      <td>2020</td>\n      <td>Monday</td>\n      <td>2020/02/03 03:45:00 AM</td>\n      <td>89860711012</td>\n      <td>898607</td>\n      <td>200083749</td>\n      <td>200340316.0</td>\n      <td>II</td>\n      <td>Initial</td>\n      <td>NaN</td>\n      <td>11012</td>\n      <td>Stolen Property</td>\n      <td>Stolen Property</td>\n      <td>Stolen Property, Possession with Knowledge, Re...</td>\n      <td>Cite or Arrest Adult</td>\n      <td>24TH ST \\ SHOTWELL ST</td>\n      <td>24064000.0</td>\n      <td>Mission</td>\n      <td>Mission</td>\n      <td>9.0</td>\n      <td>37.752440</td>\n      <td>-122.415172</td>\n      <td>POINT (-122.41517229045435 37.752439644389675)</td>\n      <td>53.0</td>\n      <td>3.0</td>\n      <td>2.0</td>\n      <td>20.0</td>\n      <td>3.0</td>\n      <td>NaN</td>\n      <td>NaN</td>\n      <td>NaN</td>\n      <td>NaN</td>\n      <td>2.0</td>\n    </tr>\n    <tr>\n      <th>2</th>\n      <td>2020/02/03 10:00:00 AM</td>\n      <td>2020/02/03</td>\n      <td>10:00</td>\n      <td>2020</td>\n      <td>Monday</td>\n      <td>2020/02/03 10:06:00 AM</td>\n      <td>89867264015</td>\n      <td>898672</td>\n      <td>200084060</td>\n      <td>200340808.0</td>\n      <td>II</td>\n      <td>Initial</td>\n      <td>NaN</td>\n      <td>64015</td>\n      <td>Non-Criminal</td>\n      <td>Other</td>\n      <td>Aided Case, Injured or Sick Person</td>\n      <td>Open or Active</td>\n      <td>MARKET ST \\ POWELL ST</td>\n      <td>34016000.0</td>\n      <td>Tenderloin</td>\n      <td>Financial District/South Beach</td>\n      <td>3.0</td>\n      <td>37.784560</td>\n      <td>-122.407337</td>\n      <td>POINT (-122.40733704162238 37.784560141211806)</td>\n      <td>19.0</td>\n      <td>5.0</td>\n      <td>3.0</td>\n      <td>8.0</td>\n      <td>NaN</td>\n      <td>35.0</td>\n      <td>NaN</td>\n      <td>NaN</td>\n      <td>NaN</td>\n      <td>2.0</td>\n    </tr>\n    <tr>\n      <th>3</th>\n      <td>2020/01/19 05:12:00 PM</td>\n      <td>2020/01/19</td>\n      <td>17:12</td>\n      <td>2020</td>\n      <td>Sunday</td>\n      <td>2020/02/01 01:01:00 PM</td>\n      <td>89863571000</td>\n      <td>898635</td>\n      <td>206024187</td>\n      <td>NaN</td>\n      <td>II</td>\n      <td>Coplogic Initial</td>\n      <td>True</td>\n      <td>71000</td>\n      <td>Lost Property</td>\n      <td>Lost Property</td>\n      <td>Lost Property</td>\n      <td>Open or Active</td>\n      <td>NaN</td>\n      <td>NaN</td>\n      <td>Taraval</td>\n      <td>NaN</td>\n      <td>NaN</td>\n      <td>NaN</td>\n      <td>NaN</td>\n      <td>NaN</td>\n      <td>NaN</td>\n      <td>NaN</td>\n      <td>NaN</td>\n      <td>NaN</td>\n      <td>NaN</td>\n      <td>NaN</td>\n      <td>NaN</td>\n      <td>NaN</td>\n      <td>NaN</td>\n      <td>NaN</td>\n    </tr>\n    <tr>\n      <th>4</th>\n      <td>2020/01/05 12:00:00 AM</td>\n      <td>2020/01/05</td>\n      <td>00:00</td>\n      <td>2020</td>\n      <td>Sunday</td>\n      <td>2020/02/03 04:09:00 PM</td>\n      <td>89877368020</td>\n      <td>898773</td>\n      <td>200085193</td>\n      <td>200342341.0</td>\n      <td>II</td>\n      <td>Initial</td>\n      <td>NaN</td>\n      <td>68020</td>\n      <td>Miscellaneous Investigation</td>\n      <td>Miscellaneous Investigation</td>\n      <td>Miscellaneous Investigation</td>\n      <td>Open or Active</td>\n      <td>PINE ST \\ DIVISADERO ST</td>\n      <td>26643000.0</td>\n      <td>Richmond</td>\n      <td>Pacific Heights</td>\n      <td>2.0</td>\n      <td>37.787112</td>\n      <td>-122.440250</td>\n      <td>POINT (-122.44024995765258 37.78711245591735)</td>\n      <td>103.0</td>\n      <td>4.0</td>\n      <td>6.0</td>\n      <td>30.0</td>\n      <td>NaN</td>\n      <td>NaN</td>\n      <td>NaN</td>\n      <td>NaN</td>\n      <td>NaN</td>\n      <td>1.0</td>\n    </tr>\n  </tbody>\n</table>\n</div>"
                    },
                    "metadata": {}
                }
            ]
        },
        {
            "metadata": {
                "button": false,
                "new_sheet": false,
                "run_control": {
                    "read_only": false
                }
            },
            "cell_type": "markdown",
            "source": "<hr>\n\nCopyright &copy; 2020. This notebook and its source code are released under the terms of the [MIT License](https://bigdatauniversity.com/mit-license/)."
        }
    ],
    "metadata": {
        "kernelspec": {
            "name": "python3",
            "display_name": "Python 3.6",
            "language": "python"
        },
        "language_info": {
            "name": "python",
            "version": "3.6.9",
            "mimetype": "text/x-python",
            "codemirror_mode": {
                "name": "ipython",
                "version": 3
            },
            "pygments_lexer": "ipython3",
            "nbconvert_exporter": "python",
            "file_extension": ".py"
        },
        "widgets": {
            "state": {},
            "version": "1.1.2"
        }
    },
    "nbformat": 4,
    "nbformat_minor": 4
}